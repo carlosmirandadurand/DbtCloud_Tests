{
  "cells": [
    {
      "cell_type": "markdown",
      "id": "d09a5c42",
      "metadata": {
        "id": "d09a5c42"
      },
      "source": [
        "Copyright © 2023 Gurobi Optimization, LLC"
      ]
    },
    {
      "cell_type": "markdown",
      "id": "6b522f9d",
      "metadata": {
        "id": "6b522f9d"
      },
      "source": [
        "# Airline planning after flight disruption"
      ]
    },
    {
      "cell_type": "markdown",
      "id": "5ed2a0ed",
      "metadata": {
        "id": "5ed2a0ed"
      },
      "source": [
        "Weather events are a major threat to the airline industry. The unpredictable nature of snowstorms, heavy rains, and icy runways make it difficult for aviation planners to make accurate schedules. \n",
        "These events can lead to flight delays and cancellations, causing not only inconvenience for passengers but also significant financial losses for airlines. \n",
        "The 2014 winter polar vortex, for instance, is estimated to have cost the industry and passengers a staggering $1.4 billion in losses due to disrupted flights [(CNBC, 2014)](https://www.cnbc.com/2014/01/08/weather-flight-disruptions-cost-14-billion-data.html). \n",
        "Thus, managing weather-related issues and having contingency plans in place is critical for the success of any airline business."
      ]
    },
    {
      "cell_type": "markdown",
      "id": "e91ff2a8",
      "metadata": {
        "id": "e91ff2a8"
      },
      "source": [
        "\n",
        "<!--  <img height=\"227.4774774774775px\" src=\"https://media3.giphy.com/media/gkAEM5sXCFqB465YWg/giphy.gif?cid=de9bf95e87544fzo1lm01e68i3mxxou95x5zgiewz66hwi45&amp;rid=giphy.gif&amp;ct=g\" width=\"700px\" itemtype=\"http://schema.skype.com/Giphy\" key=\"gif_0\"> -->\n",
        " \n",
        " |<img src=\"https://raw.githubusercontent.com/Gurobi/modeling-examples/master/aviation_planning/image_snowstorm.jpeg\" width=\"500\" align=\"center\">| \n",
        "|:--:|\n",
        "| <b>Flight cancellations due to weather delays are more common than we think. Image Credits: [Travel Refund](https://travelrefund.com/articles/when-do-flights-get-cancelled-due-to-weather/) </b>| "
      ]
    },
    {
      "cell_type": "markdown",
      "id": "09401da0",
      "metadata": {
        "id": "09401da0"
      },
      "source": [
        "Suppose that you are a flight planner for an airline. For a given day, you have sold tickets for flights across the country, and you have a plan for operating your aircraft fleet to service all of these flights. \n",
        "\n",
        "Let us say that on this day, there is a weather event (such as a snowstorm) that inhibits the airports from operating at full capacity. This means that some flights have to get cancelled. When a flight will be cancelled, the aircrafts assigned to these flights have to be re-routed. So the question becomes: how can airlines decide which flights to operate/cancel and how to best re-route the aircrafts? \n",
        "\n",
        "There is no straight-forward answer to this question, but mathematical optimization can help.\n",
        "\n",
        "\n",
        "This notebook walks through the optimization problem of deciding which flights to operate and which flights to cancel after a weather disruption.\n",
        "We do this by constructing a **mathematical optimization** model that reduces the revenue lost from the cancelled flights.\n",
        "In this example, we are using real data in France compiled by [Amadeus](https://amadeus.com/en).\n",
        "\n",
        "There are three parts to this notebook.\n",
        "- First, we read the datasets.\n",
        "- Second, we build the optimization model by defining the **decision variables**, **objective function**, and the **constraints**.\n",
        "- Third, assuming a certain level of weather disruption, we solve the optimization model to find the new optimal flight plan as well as routes for the aircrafts."
      ]
    },
    {
      "cell_type": "markdown",
      "id": "2b5f497e",
      "metadata": {
        "id": "2b5f497e"
      },
      "source": [
        "## The data\n",
        "\n",
        "\n",
        "**Dataset**: We use real data compiled by [Amadeus](https://amadeus.com/en), made available as part of the [ROADEF 2009 Challenge: Disruption Management for Commercial Aviation](https://www.roadef.org/challenge/2009/en/). This dataset is based on flight plans for an airline in France. For this notebook, we have pre-processed this dataset and stored the information in three parts:\n",
        "\n",
        "- **Current flight plan:** The currently planned set of flights and their aircraft assignments assuming that there is no weather disruption (i.e., all airports operate at full capacity).\n",
        "- **Aircraft starting and ending positions:** Where should each aircraft start the day and end the day? This information is necessary to ensure that aircrafts are where they need to be for the next day so that the disruption does not extend into the next day.\n",
        "- **Passenger itinerary:** The number of passengers and the price per ticket sold for each flight. This information is useful to assess the revenue brought in by each flight.\n",
        "\n",
        "Note that even though the data used in this example is from 2006, the optimization model is ambivalent of the data.\n",
        "For any new flight plan and predicted future disruption levels, the model will optimally solve the routing and flight service decisions.\n",
        " "
      ]
    },
    {
      "cell_type": "markdown",
      "id": "76bb1f3d",
      "metadata": {
        "id": "76bb1f3d"
      },
      "source": [
        "### Packages\n",
        "First, install and import the Python packages needed for processing the data."
      ]
    },
    {
      "cell_type": "code",
      "execution_count": 1,
      "id": "8e7ebe49",
      "metadata": {
        "id": "8e7ebe49"
      },
      "outputs": [],
      "source": [
        "# %pip install networkx matplotlb seaborn\n",
        "import pandas as pd    \n",
        "import matplotlib.pyplot as plt  \n",
        "import seaborn as sns  \n",
        "import warnings\n",
        "warnings.filterwarnings(\"ignore\")\n",
        "from datetime import datetime, timedelta\n",
        "import random\n",
        "import csv\n",
        "import plotly.express as px"
      ]
    },
    {
      "cell_type": "markdown",
      "id": "2ff2fcd2",
      "metadata": {
        "id": "2ff2fcd2"
      },
      "source": [
        "### Flight plan without disruption\n",
        "\n",
        "Next, read the  planned schedule of flights on the day of disruption, i.e., 7th January, 2006. Additionally, we infer the origin and destination airports for each flight, as well as the start time (when the flight departs the origin airport) and the end time (when the flight arrives at the destination airport).\n",
        "We store it in a Pandas dataframe.\n",
        "\n"
      ]
    },
    {
      "cell_type": "code",
      "execution_count": 2,
      "id": "e7ec8dcd",
      "metadata": {
        "id": "e7ec8dcd",
        "outputId": "72f06352-67bf-4739-8a8f-dc659ee7ba2a",
        "colab": {
          "base_uri": "https://localhost:8080/",
          "height": 424
        }
      },
      "outputs": [
        {
          "output_type": "execute_result",
          "data": {
            "text/plain": [
              "     flight    date     aircraft  ori  des start_time  end_time  duration\n",
              "0         1  7/1/06  TranspCom#1  CDG  ORY   00:00:00  00:30:00  00:30:00\n",
              "1        73  7/1/06  TranspCom#3  ORY  CDG   00:00:00  00:30:00  00:30:00\n",
              "2         2  7/1/06  TranspCom#2  CDG  ORY   00:20:00  00:50:00  00:30:00\n",
              "3        74  7/1/06  TranspCom#4  ORY  CDG   00:20:00  00:50:00  00:30:00\n",
              "4        75  7/1/06  TranspCom#1  ORY  CDG   00:40:00  01:10:00  00:30:00\n",
              "..      ...     ...          ...  ...  ...        ...       ...       ...\n",
              "603     142  7/1/06  TranspCom#4  ORY  CDG   23:00:00  23:30:00  00:30:00\n",
              "604     143  7/1/06  TranspCom#1  ORY  CDG   23:20:00  23:50:00  00:30:00\n",
              "605      71  7/1/06  TranspCom#3  CDG  ORY   23:20:00  23:50:00  00:30:00\n",
              "606     144  7/1/06  TranspCom#2  ORY  CDG   23:40:00  00:10:00  00:30:00\n",
              "607      72  7/1/06  TranspCom#4  CDG  ORY   23:40:00  00:10:00  00:30:00\n",
              "\n",
              "[608 rows x 8 columns]"
            ],
            "text/html": [
              "\n",
              "  <div id=\"df-ddae4603-792e-4e08-bfc4-002e3f681e50\">\n",
              "    <div class=\"colab-df-container\">\n",
              "      <div>\n",
              "<style scoped>\n",
              "    .dataframe tbody tr th:only-of-type {\n",
              "        vertical-align: middle;\n",
              "    }\n",
              "\n",
              "    .dataframe tbody tr th {\n",
              "        vertical-align: top;\n",
              "    }\n",
              "\n",
              "    .dataframe thead th {\n",
              "        text-align: right;\n",
              "    }\n",
              "</style>\n",
              "<table border=\"1\" class=\"dataframe\">\n",
              "  <thead>\n",
              "    <tr style=\"text-align: right;\">\n",
              "      <th></th>\n",
              "      <th>flight</th>\n",
              "      <th>date</th>\n",
              "      <th>aircraft</th>\n",
              "      <th>ori</th>\n",
              "      <th>des</th>\n",
              "      <th>start_time</th>\n",
              "      <th>end_time</th>\n",
              "      <th>duration</th>\n",
              "    </tr>\n",
              "  </thead>\n",
              "  <tbody>\n",
              "    <tr>\n",
              "      <th>0</th>\n",
              "      <td>1</td>\n",
              "      <td>7/1/06</td>\n",
              "      <td>TranspCom#1</td>\n",
              "      <td>CDG</td>\n",
              "      <td>ORY</td>\n",
              "      <td>00:00:00</td>\n",
              "      <td>00:30:00</td>\n",
              "      <td>00:30:00</td>\n",
              "    </tr>\n",
              "    <tr>\n",
              "      <th>1</th>\n",
              "      <td>73</td>\n",
              "      <td>7/1/06</td>\n",
              "      <td>TranspCom#3</td>\n",
              "      <td>ORY</td>\n",
              "      <td>CDG</td>\n",
              "      <td>00:00:00</td>\n",
              "      <td>00:30:00</td>\n",
              "      <td>00:30:00</td>\n",
              "    </tr>\n",
              "    <tr>\n",
              "      <th>2</th>\n",
              "      <td>2</td>\n",
              "      <td>7/1/06</td>\n",
              "      <td>TranspCom#2</td>\n",
              "      <td>CDG</td>\n",
              "      <td>ORY</td>\n",
              "      <td>00:20:00</td>\n",
              "      <td>00:50:00</td>\n",
              "      <td>00:30:00</td>\n",
              "    </tr>\n",
              "    <tr>\n",
              "      <th>3</th>\n",
              "      <td>74</td>\n",
              "      <td>7/1/06</td>\n",
              "      <td>TranspCom#4</td>\n",
              "      <td>ORY</td>\n",
              "      <td>CDG</td>\n",
              "      <td>00:20:00</td>\n",
              "      <td>00:50:00</td>\n",
              "      <td>00:30:00</td>\n",
              "    </tr>\n",
              "    <tr>\n",
              "      <th>4</th>\n",
              "      <td>75</td>\n",
              "      <td>7/1/06</td>\n",
              "      <td>TranspCom#1</td>\n",
              "      <td>ORY</td>\n",
              "      <td>CDG</td>\n",
              "      <td>00:40:00</td>\n",
              "      <td>01:10:00</td>\n",
              "      <td>00:30:00</td>\n",
              "    </tr>\n",
              "    <tr>\n",
              "      <th>...</th>\n",
              "      <td>...</td>\n",
              "      <td>...</td>\n",
              "      <td>...</td>\n",
              "      <td>...</td>\n",
              "      <td>...</td>\n",
              "      <td>...</td>\n",
              "      <td>...</td>\n",
              "      <td>...</td>\n",
              "    </tr>\n",
              "    <tr>\n",
              "      <th>603</th>\n",
              "      <td>142</td>\n",
              "      <td>7/1/06</td>\n",
              "      <td>TranspCom#4</td>\n",
              "      <td>ORY</td>\n",
              "      <td>CDG</td>\n",
              "      <td>23:00:00</td>\n",
              "      <td>23:30:00</td>\n",
              "      <td>00:30:00</td>\n",
              "    </tr>\n",
              "    <tr>\n",
              "      <th>604</th>\n",
              "      <td>143</td>\n",
              "      <td>7/1/06</td>\n",
              "      <td>TranspCom#1</td>\n",
              "      <td>ORY</td>\n",
              "      <td>CDG</td>\n",
              "      <td>23:20:00</td>\n",
              "      <td>23:50:00</td>\n",
              "      <td>00:30:00</td>\n",
              "    </tr>\n",
              "    <tr>\n",
              "      <th>605</th>\n",
              "      <td>71</td>\n",
              "      <td>7/1/06</td>\n",
              "      <td>TranspCom#3</td>\n",
              "      <td>CDG</td>\n",
              "      <td>ORY</td>\n",
              "      <td>23:20:00</td>\n",
              "      <td>23:50:00</td>\n",
              "      <td>00:30:00</td>\n",
              "    </tr>\n",
              "    <tr>\n",
              "      <th>606</th>\n",
              "      <td>144</td>\n",
              "      <td>7/1/06</td>\n",
              "      <td>TranspCom#2</td>\n",
              "      <td>ORY</td>\n",
              "      <td>CDG</td>\n",
              "      <td>23:40:00</td>\n",
              "      <td>00:10:00</td>\n",
              "      <td>00:30:00</td>\n",
              "    </tr>\n",
              "    <tr>\n",
              "      <th>607</th>\n",
              "      <td>72</td>\n",
              "      <td>7/1/06</td>\n",
              "      <td>TranspCom#4</td>\n",
              "      <td>CDG</td>\n",
              "      <td>ORY</td>\n",
              "      <td>23:40:00</td>\n",
              "      <td>00:10:00</td>\n",
              "      <td>00:30:00</td>\n",
              "    </tr>\n",
              "  </tbody>\n",
              "</table>\n",
              "<p>608 rows × 8 columns</p>\n",
              "</div>\n",
              "      <button class=\"colab-df-convert\" onclick=\"convertToInteractive('df-ddae4603-792e-4e08-bfc4-002e3f681e50')\"\n",
              "              title=\"Convert this dataframe to an interactive table.\"\n",
              "              style=\"display:none;\">\n",
              "        \n",
              "  <svg xmlns=\"http://www.w3.org/2000/svg\" height=\"24px\"viewBox=\"0 0 24 24\"\n",
              "       width=\"24px\">\n",
              "    <path d=\"M0 0h24v24H0V0z\" fill=\"none\"/>\n",
              "    <path d=\"M18.56 5.44l.94 2.06.94-2.06 2.06-.94-2.06-.94-.94-2.06-.94 2.06-2.06.94zm-11 1L8.5 8.5l.94-2.06 2.06-.94-2.06-.94L8.5 2.5l-.94 2.06-2.06.94zm10 10l.94 2.06.94-2.06 2.06-.94-2.06-.94-.94-2.06-.94 2.06-2.06.94z\"/><path d=\"M17.41 7.96l-1.37-1.37c-.4-.4-.92-.59-1.43-.59-.52 0-1.04.2-1.43.59L10.3 9.45l-7.72 7.72c-.78.78-.78 2.05 0 2.83L4 21.41c.39.39.9.59 1.41.59.51 0 1.02-.2 1.41-.59l7.78-7.78 2.81-2.81c.8-.78.8-2.07 0-2.86zM5.41 20L4 18.59l7.72-7.72 1.47 1.35L5.41 20z\"/>\n",
              "  </svg>\n",
              "      </button>\n",
              "      \n",
              "  <style>\n",
              "    .colab-df-container {\n",
              "      display:flex;\n",
              "      flex-wrap:wrap;\n",
              "      gap: 12px;\n",
              "    }\n",
              "\n",
              "    .colab-df-convert {\n",
              "      background-color: #E8F0FE;\n",
              "      border: none;\n",
              "      border-radius: 50%;\n",
              "      cursor: pointer;\n",
              "      display: none;\n",
              "      fill: #1967D2;\n",
              "      height: 32px;\n",
              "      padding: 0 0 0 0;\n",
              "      width: 32px;\n",
              "    }\n",
              "\n",
              "    .colab-df-convert:hover {\n",
              "      background-color: #E2EBFA;\n",
              "      box-shadow: 0px 1px 2px rgba(60, 64, 67, 0.3), 0px 1px 3px 1px rgba(60, 64, 67, 0.15);\n",
              "      fill: #174EA6;\n",
              "    }\n",
              "\n",
              "    [theme=dark] .colab-df-convert {\n",
              "      background-color: #3B4455;\n",
              "      fill: #D2E3FC;\n",
              "    }\n",
              "\n",
              "    [theme=dark] .colab-df-convert:hover {\n",
              "      background-color: #434B5C;\n",
              "      box-shadow: 0px 1px 3px 1px rgba(0, 0, 0, 0.15);\n",
              "      filter: drop-shadow(0px 1px 2px rgba(0, 0, 0, 0.3));\n",
              "      fill: #FFFFFF;\n",
              "    }\n",
              "  </style>\n",
              "\n",
              "      <script>\n",
              "        const buttonEl =\n",
              "          document.querySelector('#df-ddae4603-792e-4e08-bfc4-002e3f681e50 button.colab-df-convert');\n",
              "        buttonEl.style.display =\n",
              "          google.colab.kernel.accessAllowed ? 'block' : 'none';\n",
              "\n",
              "        async function convertToInteractive(key) {\n",
              "          const element = document.querySelector('#df-ddae4603-792e-4e08-bfc4-002e3f681e50');\n",
              "          const dataTable =\n",
              "            await google.colab.kernel.invokeFunction('convertToInteractive',\n",
              "                                                     [key], {});\n",
              "          if (!dataTable) return;\n",
              "\n",
              "          const docLinkHtml = 'Like what you see? Visit the ' +\n",
              "            '<a target=\"_blank\" href=https://colab.research.google.com/notebooks/data_table.ipynb>data table notebook</a>'\n",
              "            + ' to learn more about interactive tables.';\n",
              "          element.innerHTML = '';\n",
              "          dataTable['output_type'] = 'display_data';\n",
              "          await google.colab.output.renderOutput(dataTable, element);\n",
              "          const docLink = document.createElement('div');\n",
              "          docLink.innerHTML = docLinkHtml;\n",
              "          element.appendChild(docLink);\n",
              "        }\n",
              "      </script>\n",
              "    </div>\n",
              "  </div>\n",
              "  "
            ]
          },
          "metadata": {},
          "execution_count": 2
        }
      ],
      "source": [
        "df_current_plan = pd.read_csv('https://raw.githubusercontent.com/Gurobi/modeling-examples/master/aviation_planning/data/flight_rotations_2006-07-01.csv') \n",
        "df_current_plan['start_time'] = pd.to_datetime(df_current_plan['start_time'], format='%H:%M')\n",
        "df_current_plan['start_time'] = df_current_plan['start_time'].dt.time\n",
        "df_current_plan['end_time'] = pd.to_datetime(df_current_plan['end_time'], format='%H:%M')\n",
        "df_current_plan['end_time'] = df_current_plan['end_time'].dt.time\n",
        "df_current_plan['duration'] = pd.to_datetime(df_current_plan['duration'], format='%H:%M')\n",
        "df_current_plan['duration'] = df_current_plan['duration'].dt.time\n",
        "df_current_plan"
      ]
    },
    {
      "cell_type": "markdown",
      "id": "38c5f401",
      "metadata": {
        "id": "38c5f401"
      },
      "source": [
        "How many **flights**, **airports** and **aircrafts** are in this dataset?"
      ]
    },
    {
      "cell_type": "code",
      "execution_count": 3,
      "id": "e2c5ae06",
      "metadata": {
        "id": "e2c5ae06",
        "outputId": "59113fa2-ea21-43f5-db28-aeb3e362f856",
        "colab": {
          "base_uri": "https://localhost:8080/"
        }
      },
      "outputs": [
        {
          "output_type": "stream",
          "name": "stdout",
          "text": [
            "608 flights between 35 airports operated with 85 aircrafts\n"
          ]
        }
      ],
      "source": [
        "flights = df_current_plan['flight'].unique()\n",
        "aircrafts = df_current_plan['aircraft'].unique()\n",
        "airports = set(df_current_plan['ori'].unique()+df_current_plan['des'].unique())\n",
        "\n",
        "print(len(flights),\"flights between\",len(airports),\"airports operated with\",len(aircrafts),\"aircrafts\")"
      ]
    },
    {
      "cell_type": "markdown",
      "id": "3202c799",
      "metadata": {
        "id": "3202c799"
      },
      "source": [
        "### Visualizing the flight network\n",
        "\n",
        "Next, we assemble the origin-destination airports for all the flights, and visualize the entire network of planned flights. We use networkx to store the inter-airport information as a *directed graph* data structure to enable this visualization.\n",
        "\n",
        "\n",
        "Moreover, to reduce the size of the inputs, we can select just the top few airports (in terms of how many flights flow through them) for the rest of the notebook. The n_airports parameter selects the number of top airports to pre-select, with default set to 20 airports.\n",
        "\n",
        "\n",
        "The visual below is intended to illustrate the complexity of the flight map; do not feel like you need to spend too much time analyzing it. We will drill down into specific flight paths later."
      ]
    },
    {
      "cell_type": "code",
      "execution_count": 4,
      "id": "e336df26",
      "metadata": {
        "scrolled": false,
        "id": "e336df26",
        "outputId": "03f0742f-5c07-47ad-85f9-a4bcc4b78acb",
        "colab": {
          "base_uri": "https://localhost:8080/"
        }
      },
      "outputs": [
        {
          "output_type": "stream",
          "name": "stdout",
          "text": [
            "Reading package lists... Done\n",
            "Building dependency tree       \n",
            "Reading state information... Done\n",
            "The following additional packages will be installed:\n",
            "  libgail-common libgail18 libgtk2.0-0 libgtk2.0-bin libgtk2.0-common\n",
            "  libgvc6-plugins-gtk libxdot4\n",
            "Suggested packages:\n",
            "  gvfs\n",
            "The following NEW packages will be installed:\n",
            "  libgail-common libgail18 libgraphviz-dev libgtk2.0-0 libgtk2.0-bin\n",
            "  libgtk2.0-common libgvc6-plugins-gtk libxdot4\n",
            "0 upgraded, 8 newly installed, 0 to remove and 23 not upgraded.\n",
            "Need to get 2,148 kB of archives.\n",
            "After this operation, 7,427 kB of additional disk space will be used.\n",
            "Get:1 http://archive.ubuntu.com/ubuntu focal/main amd64 libgtk2.0-common all 2.24.32-4ubuntu4 [126 kB]\n",
            "Get:2 http://archive.ubuntu.com/ubuntu focal/main amd64 libgtk2.0-0 amd64 2.24.32-4ubuntu4 [1,791 kB]\n",
            "Get:3 http://archive.ubuntu.com/ubuntu focal/main amd64 libgail18 amd64 2.24.32-4ubuntu4 [14.7 kB]\n",
            "Get:4 http://archive.ubuntu.com/ubuntu focal/main amd64 libgail-common amd64 2.24.32-4ubuntu4 [116 kB]\n",
            "Get:5 http://archive.ubuntu.com/ubuntu focal/universe amd64 libxdot4 amd64 2.42.2-3build2 [15.4 kB]\n",
            "Get:6 http://archive.ubuntu.com/ubuntu focal/universe amd64 libgvc6-plugins-gtk amd64 2.42.2-3build2 [20.6 kB]\n",
            "Get:7 http://archive.ubuntu.com/ubuntu focal/universe amd64 libgraphviz-dev amd64 2.42.2-3build2 [57.2 kB]\n",
            "Get:8 http://archive.ubuntu.com/ubuntu focal/main amd64 libgtk2.0-bin amd64 2.24.32-4ubuntu4 [7,728 B]\n",
            "Fetched 2,148 kB in 1s (2,356 kB/s)\n",
            "Selecting previously unselected package libgtk2.0-common.\n",
            "(Reading database ... 128285 files and directories currently installed.)\n",
            "Preparing to unpack .../0-libgtk2.0-common_2.24.32-4ubuntu4_all.deb ...\n",
            "Unpacking libgtk2.0-common (2.24.32-4ubuntu4) ...\n",
            "Selecting previously unselected package libgtk2.0-0:amd64.\n",
            "Preparing to unpack .../1-libgtk2.0-0_2.24.32-4ubuntu4_amd64.deb ...\n",
            "Unpacking libgtk2.0-0:amd64 (2.24.32-4ubuntu4) ...\n",
            "Selecting previously unselected package libgail18:amd64.\n",
            "Preparing to unpack .../2-libgail18_2.24.32-4ubuntu4_amd64.deb ...\n",
            "Unpacking libgail18:amd64 (2.24.32-4ubuntu4) ...\n",
            "Selecting previously unselected package libgail-common:amd64.\n",
            "Preparing to unpack .../3-libgail-common_2.24.32-4ubuntu4_amd64.deb ...\n",
            "Unpacking libgail-common:amd64 (2.24.32-4ubuntu4) ...\n",
            "Selecting previously unselected package libxdot4:amd64.\n",
            "Preparing to unpack .../4-libxdot4_2.42.2-3build2_amd64.deb ...\n",
            "Unpacking libxdot4:amd64 (2.42.2-3build2) ...\n",
            "Selecting previously unselected package libgvc6-plugins-gtk.\n",
            "Preparing to unpack .../5-libgvc6-plugins-gtk_2.42.2-3build2_amd64.deb ...\n",
            "Unpacking libgvc6-plugins-gtk (2.42.2-3build2) ...\n",
            "Selecting previously unselected package libgraphviz-dev:amd64.\n",
            "Preparing to unpack .../6-libgraphviz-dev_2.42.2-3build2_amd64.deb ...\n",
            "Unpacking libgraphviz-dev:amd64 (2.42.2-3build2) ...\n",
            "Selecting previously unselected package libgtk2.0-bin.\n",
            "Preparing to unpack .../7-libgtk2.0-bin_2.24.32-4ubuntu4_amd64.deb ...\n",
            "Unpacking libgtk2.0-bin (2.24.32-4ubuntu4) ...\n",
            "Setting up libxdot4:amd64 (2.42.2-3build2) ...\n",
            "Setting up libgtk2.0-common (2.24.32-4ubuntu4) ...\n",
            "Setting up libgtk2.0-0:amd64 (2.24.32-4ubuntu4) ...\n",
            "Setting up libgvc6-plugins-gtk (2.42.2-3build2) ...\n",
            "Setting up libgail18:amd64 (2.24.32-4ubuntu4) ...\n",
            "Setting up libgtk2.0-bin (2.24.32-4ubuntu4) ...\n",
            "Setting up libgail-common:amd64 (2.24.32-4ubuntu4) ...\n",
            "Setting up libgraphviz-dev:amd64 (2.42.2-3build2) ...\n",
            "Processing triggers for man-db (2.9.1-1) ...\n",
            "Processing triggers for libc-bin (2.31-0ubuntu9.9) ...\n",
            "Looking in indexes: https://pypi.org/simple, https://us-python.pkg.dev/colab-wheels/public/simple/\n",
            "Collecting pygraphviz\n",
            "  Downloading pygraphviz-1.10.zip (120 kB)\n",
            "\u001b[2K     \u001b[90m━━━━━━━━━━━━━━━━━━━━━━━━━━━━━━━━━━━━━━━\u001b[0m \u001b[32m120.6/120.6 KB\u001b[0m \u001b[31m8.9 MB/s\u001b[0m eta \u001b[36m0:00:00\u001b[0m\n",
            "\u001b[?25h  Preparing metadata (setup.py) ... \u001b[?25l\u001b[?25hdone\n",
            "Building wheels for collected packages: pygraphviz\n",
            "  Building wheel for pygraphviz (setup.py) ... \u001b[?25l\u001b[?25hdone\n",
            "  Created wheel for pygraphviz: filename=pygraphviz-1.10-cp39-cp39-linux_x86_64.whl size=183751 sha256=7319ca4c6f92656932e1204d54745bd15dad70d36d960d05d7baceb6a9435a42\n",
            "  Stored in directory: /root/.cache/pip/wheels/fc/2a/e8/14a3ad923e265b2c264a2810d1ae36769ce99421c5dce75312\n",
            "Successfully built pygraphviz\n",
            "Installing collected packages: pygraphviz\n",
            "Successfully installed pygraphviz-1.10\n",
            "The reduced data has 222 flights between 4 airports operated with 21 aircrafts\n"
          ]
        }
      ],
      "source": [
        "from IPython.display import Image, display\n",
        "import networkx as nx\n",
        "from networkx.drawing.nx_agraph import graphviz_layout\n",
        "from networkx.drawing.nx_agraph import to_agraph \n",
        "!apt install libgraphviz-dev\n",
        "!pip install pygraphviz \n",
        " \n",
        "arcs = list(df_current_plan[['ori','des']].itertuples(index=False, name=None)) # store the origin-destination pairs of all the flights\n",
        "\n",
        "n_airports = 4 # specify how many airports to pick\n",
        "    \n",
        "G = nx.MultiDiGraph() # create an empty directed graph\n",
        "G.add_edges_from(arcs) # add the origin-destination pairs to the graph as directed edges\n",
        "\n",
        "top_airports = [i for (i,j) in sorted(G.degree, key=lambda x: x[1], reverse=True)[:n_airports]] # pre-select top airports by their degree\n",
        "\n",
        "G = G.subgraph(top_airports) # reduce the graph to just the top few airports\n",
        " \n",
        "# reduce the current plan dataframe to just the top few airports    \n",
        "df_current_plan = df_current_plan[df_current_plan['ori'].isin(top_airports)] \n",
        "df_current_plan = df_current_plan[df_current_plan['des'].isin(top_airports)]\n",
        "\n",
        "# # visualize the network\n",
        "# A_graph = to_agraph(G) \n",
        "# A_graph.layout('dot')    \n",
        "# display(A_graph) \n",
        " \n",
        "\n",
        "flights = df_current_plan['flight'].unique()\n",
        "aircrafts = df_current_plan['aircraft'].unique()\n",
        "airports = set(df_current_plan['ori'].unique()+df_current_plan['des'].unique())\n",
        "\n",
        "print(\"The reduced data has\",len(flights),\"flights between\",len(airports),\"airports operated with\",len(aircrafts),\"aircrafts\")\n"
      ]
    },
    {
      "cell_type": "markdown",
      "id": "1c29757d",
      "metadata": {
        "id": "1c29757d"
      },
      "source": [
        "For each flight, we will store its origin airport, destination airport, starting time and ending time in dictionaries.\n"
      ]
    },
    {
      "cell_type": "code",
      "execution_count": 5,
      "id": "446c28f6",
      "metadata": {
        "scrolled": false,
        "id": "446c28f6"
      },
      "outputs": [],
      "source": [
        "\n",
        "flight_origin = df_current_plan.set_index('flight')['ori'].to_dict()\n",
        "flight_dest = df_current_plan.set_index('flight')['des'].to_dict()\n",
        "flight_start_time = df_current_plan.set_index('flight')['start_time'].to_dict()\n",
        "flight_end_time = df_current_plan.set_index('flight')['end_time'].to_dict() \n"
      ]
    },
    {
      "cell_type": "markdown",
      "id": "c47345d1",
      "metadata": {
        "id": "c47345d1"
      },
      "source": [
        "### Where should aircrafts start the day and end the day?\n",
        "\n",
        "At the start of the disruption day, each aircraft starts from a particular airport, and must end the day at a particular airport. This is to ensure that the aircraft fleet is ready and available for uninterrupted flight operations for the next day.\n",
        "\n",
        "We now read the information on the aircraft fleet's starting position (called the **source**) and ending position (called the **sink**). "
      ]
    },
    {
      "cell_type": "code",
      "execution_count": 6,
      "id": "b55bad82",
      "metadata": {
        "id": "b55bad82"
      },
      "outputs": [],
      "source": [
        "df_starting_positions = pd.read_csv('https://raw.githubusercontent.com/Gurobi/modeling-examples/master/aviation_planning/data/starting_positions.csv')  \n",
        "aircrafts_startpositions_airc = df_starting_positions.set_index('aircraft')['airport'].to_dict()\n",
        "\n",
        "df_ending_positions = pd.read_csv('https://raw.githubusercontent.com/Gurobi/modeling-examples/master/aviation_planning/data/ending_positions.csv')\n",
        "aircrafts_endpositions_airc = df_ending_positions.set_index('aircraft')['airport'].to_dict()\n"
      ]
    },
    {
      "cell_type": "markdown",
      "id": "c1c64419",
      "metadata": {
        "id": "c1c64419"
      },
      "source": [
        "### Passenger itineraries\n",
        "\n",
        "Next, we read the passenger itinerary data. For each flight, we know how many passengers booked the tickets and the cost of each seat. We will store this information in dictionaries so that we can later assess the cost of cancelling a flight."
      ]
    },
    {
      "cell_type": "code",
      "execution_count": 7,
      "id": "8e921413",
      "metadata": {
        "scrolled": false,
        "id": "8e921413",
        "outputId": "770cedb8-cd41-4ee7-a59e-d2d0b99e3a92",
        "colab": {
          "base_uri": "https://localhost:8080/",
          "height": 424
        }
      },
      "outputs": [
        {
          "output_type": "execute_result",
          "data": {
            "text/plain": [
              "       cost  n_pass  flight  total_cost\n",
              "0     137.5    24.0  4296.0      3300.0\n",
              "1     137.5    33.0  4296.0      4537.5\n",
              "2     137.5    24.0  4296.0      3300.0\n",
              "3     137.5    44.0  4296.0      6050.0\n",
              "4     137.5    35.0  4295.0      4812.5\n",
              "...     ...     ...     ...         ...\n",
              "1925  200.0    15.0  2620.0      3000.0\n",
              "1926  250.0     6.0  2609.0      1500.0\n",
              "1927  250.0     4.0  2609.0      1000.0\n",
              "1928  325.0    16.0  5125.0      5200.0\n",
              "1929  325.0    11.0  5125.0      3575.0\n",
              "\n",
              "[1930 rows x 4 columns]"
            ],
            "text/html": [
              "\n",
              "  <div id=\"df-8f4487b4-339e-4f0e-b55b-2afa8f391083\">\n",
              "    <div class=\"colab-df-container\">\n",
              "      <div>\n",
              "<style scoped>\n",
              "    .dataframe tbody tr th:only-of-type {\n",
              "        vertical-align: middle;\n",
              "    }\n",
              "\n",
              "    .dataframe tbody tr th {\n",
              "        vertical-align: top;\n",
              "    }\n",
              "\n",
              "    .dataframe thead th {\n",
              "        text-align: right;\n",
              "    }\n",
              "</style>\n",
              "<table border=\"1\" class=\"dataframe\">\n",
              "  <thead>\n",
              "    <tr style=\"text-align: right;\">\n",
              "      <th></th>\n",
              "      <th>cost</th>\n",
              "      <th>n_pass</th>\n",
              "      <th>flight</th>\n",
              "      <th>total_cost</th>\n",
              "    </tr>\n",
              "  </thead>\n",
              "  <tbody>\n",
              "    <tr>\n",
              "      <th>0</th>\n",
              "      <td>137.5</td>\n",
              "      <td>24.0</td>\n",
              "      <td>4296.0</td>\n",
              "      <td>3300.0</td>\n",
              "    </tr>\n",
              "    <tr>\n",
              "      <th>1</th>\n",
              "      <td>137.5</td>\n",
              "      <td>33.0</td>\n",
              "      <td>4296.0</td>\n",
              "      <td>4537.5</td>\n",
              "    </tr>\n",
              "    <tr>\n",
              "      <th>2</th>\n",
              "      <td>137.5</td>\n",
              "      <td>24.0</td>\n",
              "      <td>4296.0</td>\n",
              "      <td>3300.0</td>\n",
              "    </tr>\n",
              "    <tr>\n",
              "      <th>3</th>\n",
              "      <td>137.5</td>\n",
              "      <td>44.0</td>\n",
              "      <td>4296.0</td>\n",
              "      <td>6050.0</td>\n",
              "    </tr>\n",
              "    <tr>\n",
              "      <th>4</th>\n",
              "      <td>137.5</td>\n",
              "      <td>35.0</td>\n",
              "      <td>4295.0</td>\n",
              "      <td>4812.5</td>\n",
              "    </tr>\n",
              "    <tr>\n",
              "      <th>...</th>\n",
              "      <td>...</td>\n",
              "      <td>...</td>\n",
              "      <td>...</td>\n",
              "      <td>...</td>\n",
              "    </tr>\n",
              "    <tr>\n",
              "      <th>1925</th>\n",
              "      <td>200.0</td>\n",
              "      <td>15.0</td>\n",
              "      <td>2620.0</td>\n",
              "      <td>3000.0</td>\n",
              "    </tr>\n",
              "    <tr>\n",
              "      <th>1926</th>\n",
              "      <td>250.0</td>\n",
              "      <td>6.0</td>\n",
              "      <td>2609.0</td>\n",
              "      <td>1500.0</td>\n",
              "    </tr>\n",
              "    <tr>\n",
              "      <th>1927</th>\n",
              "      <td>250.0</td>\n",
              "      <td>4.0</td>\n",
              "      <td>2609.0</td>\n",
              "      <td>1000.0</td>\n",
              "    </tr>\n",
              "    <tr>\n",
              "      <th>1928</th>\n",
              "      <td>325.0</td>\n",
              "      <td>16.0</td>\n",
              "      <td>5125.0</td>\n",
              "      <td>5200.0</td>\n",
              "    </tr>\n",
              "    <tr>\n",
              "      <th>1929</th>\n",
              "      <td>325.0</td>\n",
              "      <td>11.0</td>\n",
              "      <td>5125.0</td>\n",
              "      <td>3575.0</td>\n",
              "    </tr>\n",
              "  </tbody>\n",
              "</table>\n",
              "<p>1930 rows × 4 columns</p>\n",
              "</div>\n",
              "      <button class=\"colab-df-convert\" onclick=\"convertToInteractive('df-8f4487b4-339e-4f0e-b55b-2afa8f391083')\"\n",
              "              title=\"Convert this dataframe to an interactive table.\"\n",
              "              style=\"display:none;\">\n",
              "        \n",
              "  <svg xmlns=\"http://www.w3.org/2000/svg\" height=\"24px\"viewBox=\"0 0 24 24\"\n",
              "       width=\"24px\">\n",
              "    <path d=\"M0 0h24v24H0V0z\" fill=\"none\"/>\n",
              "    <path d=\"M18.56 5.44l.94 2.06.94-2.06 2.06-.94-2.06-.94-.94-2.06-.94 2.06-2.06.94zm-11 1L8.5 8.5l.94-2.06 2.06-.94-2.06-.94L8.5 2.5l-.94 2.06-2.06.94zm10 10l.94 2.06.94-2.06 2.06-.94-2.06-.94-.94-2.06-.94 2.06-2.06.94z\"/><path d=\"M17.41 7.96l-1.37-1.37c-.4-.4-.92-.59-1.43-.59-.52 0-1.04.2-1.43.59L10.3 9.45l-7.72 7.72c-.78.78-.78 2.05 0 2.83L4 21.41c.39.39.9.59 1.41.59.51 0 1.02-.2 1.41-.59l7.78-7.78 2.81-2.81c.8-.78.8-2.07 0-2.86zM5.41 20L4 18.59l7.72-7.72 1.47 1.35L5.41 20z\"/>\n",
              "  </svg>\n",
              "      </button>\n",
              "      \n",
              "  <style>\n",
              "    .colab-df-container {\n",
              "      display:flex;\n",
              "      flex-wrap:wrap;\n",
              "      gap: 12px;\n",
              "    }\n",
              "\n",
              "    .colab-df-convert {\n",
              "      background-color: #E8F0FE;\n",
              "      border: none;\n",
              "      border-radius: 50%;\n",
              "      cursor: pointer;\n",
              "      display: none;\n",
              "      fill: #1967D2;\n",
              "      height: 32px;\n",
              "      padding: 0 0 0 0;\n",
              "      width: 32px;\n",
              "    }\n",
              "\n",
              "    .colab-df-convert:hover {\n",
              "      background-color: #E2EBFA;\n",
              "      box-shadow: 0px 1px 2px rgba(60, 64, 67, 0.3), 0px 1px 3px 1px rgba(60, 64, 67, 0.15);\n",
              "      fill: #174EA6;\n",
              "    }\n",
              "\n",
              "    [theme=dark] .colab-df-convert {\n",
              "      background-color: #3B4455;\n",
              "      fill: #D2E3FC;\n",
              "    }\n",
              "\n",
              "    [theme=dark] .colab-df-convert:hover {\n",
              "      background-color: #434B5C;\n",
              "      box-shadow: 0px 1px 3px 1px rgba(0, 0, 0, 0.15);\n",
              "      filter: drop-shadow(0px 1px 2px rgba(0, 0, 0, 0.3));\n",
              "      fill: #FFFFFF;\n",
              "    }\n",
              "  </style>\n",
              "\n",
              "      <script>\n",
              "        const buttonEl =\n",
              "          document.querySelector('#df-8f4487b4-339e-4f0e-b55b-2afa8f391083 button.colab-df-convert');\n",
              "        buttonEl.style.display =\n",
              "          google.colab.kernel.accessAllowed ? 'block' : 'none';\n",
              "\n",
              "        async function convertToInteractive(key) {\n",
              "          const element = document.querySelector('#df-8f4487b4-339e-4f0e-b55b-2afa8f391083');\n",
              "          const dataTable =\n",
              "            await google.colab.kernel.invokeFunction('convertToInteractive',\n",
              "                                                     [key], {});\n",
              "          if (!dataTable) return;\n",
              "\n",
              "          const docLinkHtml = 'Like what you see? Visit the ' +\n",
              "            '<a target=\"_blank\" href=https://colab.research.google.com/notebooks/data_table.ipynb>data table notebook</a>'\n",
              "            + ' to learn more about interactive tables.';\n",
              "          element.innerHTML = '';\n",
              "          dataTable['output_type'] = 'display_data';\n",
              "          await google.colab.output.renderOutput(dataTable, element);\n",
              "          const docLink = document.createElement('div');\n",
              "          docLink.innerHTML = docLinkHtml;\n",
              "          element.appendChild(docLink);\n",
              "        }\n",
              "      </script>\n",
              "    </div>\n",
              "  </div>\n",
              "  "
            ]
          },
          "metadata": {},
          "execution_count": 7
        }
      ],
      "source": [
        "df_iterinaries = pd.read_csv('https://raw.githubusercontent.com/Gurobi/modeling-examples/master/aviation_planning/data/flight_iterinaries.csv')\n",
        "df_iterinaries['total_cost'] = df_iterinaries['cost']*df_iterinaries['n_pass']\n",
        "flight_revenue = df_iterinaries.groupby(['flight'])['total_cost'].agg('sum').to_dict() \n",
        "flight_n_pass = df_iterinaries.groupby(['flight'])['n_pass'].agg('sum').to_dict() \n",
        "df_iterinaries\n"
      ]
    },
    {
      "cell_type": "markdown",
      "id": "0bcc1480",
      "metadata": {
        "id": "0bcc1480"
      },
      "source": [
        "### Create flight-to-flight transitions for each aircraft\n",
        "\n",
        "Finally, using the current flight plan, we assess all the feasible flight-to-flight transitions. Such a transition is  essentially: after each flight, what is the next possible flight?\n",
        "\n",
        "For two flights $f_1$ and $f_2$, the flight transition $f_1$-$f_2$ is *feasible* if the arrival time of $f_1$ is before the departure time of $f_2$, and the destination of $f_1$ is the same as the origin of $f_2$.\n",
        "\n",
        "Based on these feasible transitions, each aircraft's route is a sequence of flight-to-flight transitions starting from the source airport to its sink airport.\n",
        "\n",
        "\n",
        "For example, from the data, the aircraft A380#1 (which is an Airbus 380) starts the day at airport CFE. From here, it can either take flight 4296 (CFE-ORY) at 5:40am or flight 4298 (CFE-ORY) at 10:48am. Once it gets to ORY, it will have multiple options for the rest of the day's route. In total,  A380#1 has eight flight paths (see visualization below).\n",
        "\n",
        "To compactly store all the feasible flight-to-flight transitions, we create a **directed acyclic graph** (DAG). The vertices are the flights, and the directed edges are feasible transitions. Use the interactive tool below to visualize the DAG for each aircraft."
      ]
    },
    {
      "cell_type": "code",
      "execution_count": 8,
      "id": "0e8cd389",
      "metadata": {
        "scrolled": false,
        "id": "0e8cd389",
        "outputId": "0fe147ff-ebaf-4fe3-bc49-aa93b18a5825",
        "colab": {
          "base_uri": "https://localhost:8080/",
          "height": 1000,
          "referenced_widgets": [
            "51599a588d3e49d1b54e9ffef87ffd3e",
            "edd0121916e444aeb2e9cb38277f3ea6",
            "b846220153064c25ae8a9a6de7a8e383",
            "c19803bf9ef0462582b0132d4076e60e",
            "18e31d98072d499ab8220310ab8b39da",
            "27f92243605b4d3491d6a1b905128da0",
            "4fbdb638e62544c49aab67b1f0e369a1"
          ]
        }
      },
      "outputs": [
        {
          "output_type": "display_data",
          "data": {
            "text/plain": [
              "interactive(children=(Dropdown(description='x', options=('A318#4', 'A318#5', 'A318#7', 'A318#8', 'A319#11', 'A…"
            ],
            "application/vnd.jupyter.widget-view+json": {
              "version_major": 2,
              "version_minor": 0,
              "model_id": "51599a588d3e49d1b54e9ffef87ffd3e"
            }
          },
          "metadata": {}
        },
        {
          "output_type": "execute_result",
          "data": {
            "text/plain": [
              "<function __main__.visualize_aircraft_network(x)>"
            ]
          },
          "metadata": {},
          "execution_count": 8
        }
      ],
      "source": [
        "\n",
        "from ipywidgets import interact, interactive, fixed, interact_manual\n",
        "\n",
        "aircraft_flights = df_current_plan.groupby(['aircraft']).apply(lambda x: x['flight'].tolist()).to_dict()\n",
        "flight_arcs_for_each_aircraft = {}\n",
        "deltaplus_flightarcs = {}\n",
        "deltaminus_flightarcs = {}\n",
        "for a in aircraft_flights:\n",
        "    aircraft_flights[a] += ['source_%s'%a,'sink_%s'%a]\n",
        "    flight_origin['source_%s'%a] = aircrafts_startpositions_airc[a]\n",
        "    flight_dest['source_%s'%a] = aircrafts_endpositions_airc[a]\n",
        "    flight_origin['sink_%s'%a] = aircrafts_endpositions_airc[a]\n",
        "    flight_dest['sink_%s'%a] = aircrafts_startpositions_airc[a]\n",
        "\n",
        "    flight_start_time['source_%s'%a] = datetime.strptime('0:0', '%H:%M').time()\n",
        "    flight_end_time['source_%s'%a] = datetime.strptime('0:0', '%H:%M').time()\n",
        "\n",
        "    flight_start_time['sink_%s'%a] = datetime.strptime('23:59', '%H:%M').time()\n",
        "    flight_end_time['sink_%s'%a] = datetime.strptime('23:59', '%H:%M').time()\n",
        "\n",
        "    flight_arcs_for_each_aircraft[a] = []\n",
        "    deltaplus_flightarcs[a] = {f: [] for f in aircraft_flights[a]}\n",
        "    deltaminus_flightarcs[a] = {f: [] for f in aircraft_flights[a]}\n",
        "\n",
        "    for f1 in aircraft_flights[a]:\n",
        "        for f2 in aircraft_flights[a]:\n",
        "            if f1!=f2 and flight_end_time[f1] < flight_start_time[f2] and flight_dest[f1] == flight_origin[f2]: \n",
        "                flight_arcs_for_each_aircraft[a].append((f1,f2))\n",
        "                deltaplus_flightarcs[a][f1].append(f2)\n",
        "                deltaminus_flightarcs[a][f2].append(f1) \n",
        " \n",
        "def visualize_aircraft_network(x): \n",
        "    G = nx.DiGraph()\n",
        "    G.add_edges_from(flight_arcs_for_each_aircraft[x])\n",
        "    plt.figure(figsize=(20,14)) \n",
        "    A_graph = to_agraph(G) \n",
        "    A_graph.layout('dot')    \n",
        "    display(A_graph)             \n",
        "    plt.show()\n",
        " \n",
        "interact(visualize_aircraft_network, x=aircraft_flights.keys())"
      ]
    },
    {
      "cell_type": "markdown",
      "id": "f83a44db",
      "metadata": {
        "id": "f83a44db"
      },
      "source": [
        "## Optimization model"
      ]
    },
    {
      "cell_type": "markdown",
      "id": "36b3b9d9",
      "metadata": {
        "id": "36b3b9d9"
      },
      "source": [
        " \n",
        "A weather disruption diminishes the overall capacity of the airports, measured by the number of flights that can take-off and land.\n",
        "Given this reduced airport capacity, which flights should be operated, and what route should the aircrafts take?\n",
        "Our goal is to create an optimal flight plan that minimizes the overall revenue loss incurred from the cancelled flights.\n",
        "\n",
        "This decision problem is modeled using a mathematical optimization model, which finds the **best solution** according to an **objective function** such that the solution satisfies a set of **constraints**. \n",
        "Here, a solution is expressed as a vector of real values or integer values called **decision variables**.\n",
        "Constraints are a set of equations or inequalities written as a function of the decision variables.\n",
        "\n",
        "In this airline business model, the objective is to minimize the overall loss from all the cancelled flights.\n",
        "The decision variables decide which flights to operate/cancel, as well as construct a route for each aircraft that starts from its starting airport and ends at the airport it needs to be at the end of the day.\n",
        "There are three types of constraints: (i) construct the flight route, (ii) ensure that a flight is operated only if it is in the flight route, and (iii) ensure that the number of take-offs and landings are within the diminished capacity of the airports."
      ]
    },
    {
      "cell_type": "markdown",
      "id": "48080a9f",
      "metadata": {
        "id": "48080a9f"
      },
      "source": [
        "### Assumptions\n",
        "\n",
        "There are many modeling assumptions made in this notebook, as this model serves as a starting point. At the end of the notebook, we suggest potential extensions.\n",
        "The following are some key assumptions.\n",
        "- All airports have the same level of disruption, which is across the entire day.\n",
        "- We assume that we know ahead of time the level of disruption at all airports.\n",
        "- We ignore crew scheduling and maintainance issues; though this model can be extended for larger inputs with a commercial Gurobi licence.\n",
        "- We do not consider how other airlines may react to the disruption.\n"
      ]
    },
    {
      "cell_type": "markdown",
      "id": "5e5c6469",
      "metadata": {
        "id": "5e5c6469"
      },
      "source": [
        "\n",
        "### Input Parameters\n",
        "\n",
        "Let us now define the input parameters and notations used for creating the model. The subscript $a$ will be used to denote each aircraft, $f$ for each flight, and $i$ for each airport.\n",
        "\n",
        "\n",
        "- $N$: set of all airports\n",
        "- $A$: set of all aircrafts\n",
        "- $F$: set of all flights\n",
        "- $F_a$: set of flights operated by aircraft $a$ in the current plan\n",
        "- $E_a$: set of feasible flight-to-flight transitions for aircraft $a$ \n",
        "- $r_f$: revenue ($\\$$) from operating flight $f$\n",
        "- $(o_f,d_f)$: origin, destination airports for flight $f$\n",
        "- $(C^{arr}_i,C^{dep}_i)$: maximum number of arrivals and departures in airport $i$\n",
        "- $\\alpha$: level of disruption\n",
        "\n",
        "The following code loads the Gurobi python package and initiates the optimization model. \n",
        "The value of $\\alpha$ is set to $50\\%$. \n",
        " "
      ]
    },
    {
      "cell_type": "code",
      "execution_count": null,
      "id": "32e94cb9",
      "metadata": {
        "id": "32e94cb9"
      },
      "outputs": [],
      "source": [
        "%pip install gurobipy\n",
        "import gurobipy as gp\n",
        "from gurobipy import GRB\n",
        "model = gp.Model(\"airline_disruption\")\n",
        " \n",
        "N = G.nodes() "
      ]
    },
    {
      "cell_type": "markdown",
      "id": "4b6aca52",
      "metadata": {
        "id": "4b6aca52"
      },
      "source": [
        "### Decision Variables\n",
        "\n",
        "We now define the decision variables.\n",
        "In our model, we want to do two things: pick flights to be operated by each aircraft and construct a route for each aircraft. \n",
        "The following notation is used to model these decision variables.\n",
        "\n",
        "\n",
        "$x_{a,f}$: $1$, if aircraft $a$ operates flight $f$; $0$, otherwise\n",
        "\n",
        "$y_{a,f_1,f_2}$: $1$, if aircraft $a$ operates flight $f_2$ immediately after flight $f_1$; $0$, otherwise\n",
        "\n",
        "We will now add the variables to the Gurobi model using the addVar function."
      ]
    },
    {
      "cell_type": "code",
      "execution_count": null,
      "id": "83f94e78",
      "metadata": {
        "id": "83f94e78"
      },
      "outputs": [],
      "source": [
        "x, y = {}, {}\n",
        "for a in aircrafts:\n",
        "    for f in aircraft_flights[a]:\n",
        "        x[a,f] = model.addVar(name=\"x_%s,%s\"%(a,f), vtype=GRB.BINARY)\n",
        "\n",
        "    for (f1,f2) in flight_arcs_for_each_aircraft[a]:\n",
        "        y[a,f1,f2] = model.addVar(name=\"y_%s,%s,%s\"%(a,f1,f2), vtype=GRB.BINARY)\n",
        "\n",
        "model.update()"
      ]
    },
    {
      "cell_type": "markdown",
      "id": "8b3b2c0c",
      "metadata": {
        "id": "8b3b2c0c"
      },
      "source": [
        "\n",
        "### Set the Objective: minimize the revenue from cancelled flights\n",
        "\n",
        "<!-- Next, we will define the objective function: we want to maximizing the **net revenue**. The revenue from sales in each region is calculated by the price of an avocado in that region multiplied by the quantity sold there. There are two types of costs incurred: the wastage costs for excess unsold avocados and the cost of transporting the avocados to the different regions. \n",
        "\n",
        "The net revenue is the sales revenue subtracted by the total costs incurred. We assume that the purchase costs are fixed and are not incorporated in this model. -->\n",
        "\n",
        "Our goal is to **minimize** the total **lost revenue** from the cancelled flights. \n",
        "We capture this objective as a function of the decision variables.\n",
        "Note that a flight is cancelled if $x_{a,f}$ is set to $0$.\n",
        "The revenue lost from the flight is given by $(1-x_{a,f}) * r_f$.\n",
        "Hence, the overall lost revenue across all aircrafts and cancelled flights is given by,\n",
        "\n",
        "\n",
        "<!-- \\begin{aligned} \n",
        "\\textrm{Maximize } \\ \\sum_{f \\in flights} \\ \\sum_{a \\in aircrafts} \\ x_{a,f} * r_f\n",
        "\\end{aligned} -->\n",
        "\n",
        "\\begin{aligned} \n",
        "\\textrm{Minimize } \\ \\sum_{a \\in aircrafts} \\ \\sum_{f \\in F_a} \\ (1-x_{a,f}) * r_f\n",
        "\\end{aligned}\n",
        "\n",
        "We now add this objective function to the model using the setObjective function.\n",
        "\n",
        " "
      ]
    },
    {
      "cell_type": "code",
      "execution_count": null,
      "id": "8938547c",
      "metadata": {
        "id": "8938547c"
      },
      "outputs": [],
      "source": [
        "objective = gp.quicksum((1-x[a,f])*flight_revenue[f] for a in aircrafts for f in aircraft_flights[a] if f in flight_revenue) # operating cost\n",
        "model.setObjective(objective, sense=GRB.MINIMIZE)"
      ]
    },
    {
      "cell_type": "markdown",
      "id": "c4580444",
      "metadata": {
        "id": "c4580444"
      },
      "source": [
        "### Constraint #1: construct each aircraft's flight path\n",
        "\n",
        "\n",
        "An aircraft begins the day from its starting airport (source) and ends the day at its final airport (sink). Its route during the day is constructed using the **y** decision variables. \n",
        "\n",
        "We do this by considering three cases for each aircraft: its starting flight, an intermediary flight, and its ending flight.\n",
        "\n",
        "When a flight leaves its starting airport, we ensure that it can leave exactly once.\n",
        "The flights in the set $\\delta^+(source_a)$ gives the set of all candidate \"first-flights\" for the aircraft.\n",
        "We ensure that exactly one of these flights is taken using the following equality for each aircraft $a$.\n",
        "\n",
        "\\begin{aligned} \n",
        "\\sum_{f' \\in \\delta^+(source_a)} y_{a,source_a,f'} &= 1\n",
        "\\end{aligned} \n",
        "\n",
        "Similarly, a flight arrives at its final airport, we ensure that it enters the airport exactly once.\n",
        "The flights in the set $\\delta^-(sink_a)$ gives the set of all candidate \"last-flights\" for the aircraft, and we ensure that exactly one of these flights is taken.\n",
        "\n",
        "\\begin{aligned} \n",
        "\\sum_{f' \\in \\delta^-(sink_a)} y_{a,f',sink_a} &= 1\n",
        "\\end{aligned}\n",
        "\n",
        "For every intermediary flight $f$ in $F_a$ (that is neither the starting nor the ending flight), we ensure that the number of preceding and succeeding flights are the same. This is necessary to ensure the continuity of the flight path.\n",
        "The following constraints are for each aircraft $a$ and  intermediary flight $f$ in $F_a$.\n",
        "\n",
        "\\begin{aligned} \n",
        "\\sum_{f' \\in \\delta^+(f)} y_{a,f,f'} &= \\sum_{f' \\in \\delta^-(i)} y_{a,f',f} \n",
        "\\end{aligned}\n",
        "\n",
        "In optimization modeling, these types of constraints are called **flow-balance** constraints.\n",
        "These are used to model many famous problems such as shortest path, maximum flow problem, and the traveling salesman problem. Read more [here](https://web.mit.edu/15.053/www/AMP-Chapter-08.pdf).\n",
        "The following code adds these constraints to the model one at a time."
      ]
    },
    {
      "cell_type": "code",
      "execution_count": null,
      "id": "7fe10530",
      "metadata": {
        "id": "7fe10530"
      },
      "outputs": [],
      "source": [
        "for a in aircrafts:\n",
        "    model.addConstr(sum(y[a,'source_%s'%a,f2] for f2 in deltaplus_flightarcs[a]['source_%s'%a]) == 1)\n",
        "    model.addConstr(sum(y[a,f1,'sink_%s'%a] for f1 in deltaminus_flightarcs[a]['sink_%s'%a]) == 1)\n",
        "    for f in aircraft_flights[a]: \n",
        "        if str(f)[0] != 's':\n",
        "            model.addConstr(sum(y[a,f,f2] for f2 in deltaplus_flightarcs[a][f]) == sum(y[a,f1,f] for f1 in deltaminus_flightarcs[a][f]))"
      ]
    },
    {
      "cell_type": "markdown",
      "id": "94ab229f",
      "metadata": {
        "id": "94ab229f"
      },
      "source": [
        "### Constraint #2: a flight is operated only if it is traversed by an aircraft\n",
        "\n",
        "Next, we make sure that a flight $f$ is operated by an aircraft $a$ only if $f$ is in the route taken by $a$.\n",
        "The quantity $\\sum_{f' \\in \\delta^+(f)} y_{a,f,f'}$ gives us the number of arcs that leave flight $f$; there can be either $0$ arcs or $1$ arc. \n",
        "If this quantity is $0$, then aircraft $f$ does not traverse flight $f$, and we set $x_{a,f}$ to be $0$.\n",
        "This constraint can be mathematically expressed by the following inequality for each aircraft $a$ and flight $f$ in $F_a$\n",
        "\n",
        "\\begin{aligned}  \n",
        "x_{a,f} &\\leq \\sum_{f'\\ \\textrm{in }\\ \\delta^+(f)} y_{a,f,f'}\n",
        "\\end{aligned}\n",
        "\n",
        "Let us now add these constraints to the model.\n"
      ]
    },
    {
      "cell_type": "code",
      "execution_count": null,
      "id": "ba744ca1",
      "metadata": {
        "id": "ba744ca1"
      },
      "outputs": [],
      "source": [
        "for a in aircrafts:\n",
        "    for f in aircraft_flights[a]:\n",
        "        model.addConstr(x[a,f] <= sum(y[a,f,f2] for f2 in deltaplus_flightarcs[a][f])) # flight f is chosen only if it is traversed\n",
        "        "
      ]
    },
    {
      "cell_type": "markdown",
      "id": "e404f868",
      "metadata": {
        "id": "e404f868"
      },
      "source": [
        "### Constraint #3: maximum limit on the number of arrivals and departures from the airports \n",
        "\n",
        "Finally, we add the airport capacity constraints. \n",
        "For each airport, we know the total number of arrivals and departures on a regular day. \n",
        "However, on the disruption day, only a fraction of flights can land and take-off, given by the parameters $\\alpha$.\n",
        "For example, if $\\alpha = 0.5$, only half the flights can land or take-off.\n",
        "This condition can be mathematically expressed using the following inequalities for every airport $i$,\n",
        "\n",
        "\\begin{aligned} \n",
        "\\sum_{\\textrm{aircraft a}} \\ \\sum_{\\textrm{flight }f \\textrm{ that arrives at $i$}} x_{a,f} &\\leq C^{arr}_{i} * \\alpha \\quad  \\forall \\ \\textrm{airport } i, \\\\\n",
        "\\sum_{\\textrm{aircraft a}} \\ \\sum_{\\textrm{flight }f \\textrm{ that departs from $i$}} x_{a,f} &\\leq C^{dep}_{i} *\\alpha \\quad  \\forall \\ \\textrm{airport } i.\n",
        "\\end{aligned}\n",
        "\n",
        "The left hand side of the inequalities counts the total number of flights that land or take-off at the airports, and the right hand side sets the maximum limits.\n",
        "As extreme cases, setting $\\alpha  = 0$ implies that there is a complete shut-down of the airports, and $\\alpha = 1$ implies that there is no disruption.\n",
        "\n",
        "We can add these constraints to the model, with a default values set to $0.5$. Later in the notebook, we see how the disruption parameter affects the optimal flight plan.\n"
      ]
    },
    {
      "cell_type": "code",
      "execution_count": null,
      "id": "600c2bbd",
      "metadata": {
        "id": "600c2bbd"
      },
      "outputs": [],
      "source": [
        "alpha = .5 \n",
        "\n",
        "for i in N:\n",
        "    total_departures = len([f for a in aircrafts for f in aircraft_flights[a] if flight_origin[f] == i])\n",
        "    total_arrivals = len([f for a in aircrafts for f in aircraft_flights[a] if flight_dest[f] == i])\n",
        "\n",
        "    model.addConstr(sum(x[a,f] for a in aircrafts for f in aircraft_flights[a] if flight_origin[f] == i) <= alpha*total_departures)\n",
        "    model.addConstr(sum(x[a,f] for a in aircrafts for f in aircraft_flights[a] if flight_dest[f] == i) <= alpha*total_arrivals)\n"
      ]
    },
    {
      "cell_type": "markdown",
      "id": "1dc03a5f",
      "metadata": {
        "id": "1dc03a5f"
      },
      "source": [
        "### Fire up Gurobi engines\n",
        "\n",
        "We have added the decision variables, objective function, and the constraints to the model. \n",
        "The model is ready to be solved. "
      ]
    },
    {
      "cell_type": "code",
      "execution_count": null,
      "id": "8e1742c1",
      "metadata": {
        "id": "8e1742c1",
        "outputId": "9ffdf931-8335-48e8-ef81-91e7bf935dfb"
      },
      "outputs": [
        {
          "name": "stdout",
          "output_type": "stream",
          "text": [
            "Gurobi Optimizer version 9.5.1 build v9.5.1rc2 (mac64[rosetta2])\n",
            "Thread count: 8 physical cores, 8 logical processors, using up to 8 threads\n",
            "Optimize a model with 536 rows, 1920 columns and 5742 nonzeros\n",
            "Model fingerprint: 0x9fee69f7\n",
            "Variable types: 0 continuous, 1920 integer (1920 binary)\n",
            "Coefficient statistics:\n",
            "  Matrix range     [1e+00, 1e+00]\n",
            "  Objective range  [6e+03, 6e+04]\n",
            "  Bounds range     [1e+00, 1e+00]\n",
            "  RHS range        [1e+00, 6e+01]\n",
            "Found heuristic solution: objective 1878476.0000\n",
            "Presolve removed 498 rows and 1559 columns\n",
            "Presolve time: 0.03s\n",
            "Presolved: 38 rows, 361 columns, 722 nonzeros\n",
            "Found heuristic solution: objective 801512.00000\n",
            "Variable types: 0 continuous, 361 integer (344 binary)\n",
            "\n",
            "Explored 0 nodes (0 simplex iterations) in 0.05 seconds (0.01 work units)\n",
            "Thread count was 8 (of 8 available processors)\n",
            "\n",
            "Solution count 2: 801512 1.87848e+06 \n",
            "\n",
            "Optimal solution found (tolerance 1.00e-04)\n",
            "Best objective 8.015120000000e+05, best bound 8.015120000000e+05, gap 0.0000%\n"
          ]
        }
      ],
      "source": [
        "model.optimize()"
      ]
    },
    {
      "cell_type": "markdown",
      "id": "671c663d",
      "metadata": {
        "id": "671c663d"
      },
      "source": [
        "### Optimal solution"
      ]
    },
    {
      "cell_type": "markdown",
      "id": "f000f511",
      "metadata": {
        "id": "f000f511"
      },
      "source": [
        "The solver solved the optimization problem in less than a second.\n",
        "Let us now analyze the optimal solution."
      ]
    },
    {
      "cell_type": "code",
      "execution_count": null,
      "id": "3a31a92d",
      "metadata": {
        "scrolled": true,
        "id": "3a31a92d",
        "outputId": "35a9d3b6-1d90-41ca-fee2-59a871fefc41"
      },
      "outputs": [
        {
          "name": "stdout",
          "output_type": "stream",
          "text": [
            "\n",
            "Net revenue total loss: $ 0.8 million\n",
            "Optimal number of flights served: 50\n",
            "Optimal number of passengers transported: 5641.0\n",
            "Optimal number of aircrafts utilized: 10\n"
          ]
        }
      ],
      "source": [
        "operated_flights = {a: [f for f in aircraft_flights[a] if x[a,f].X > .5 if str(f)[0] != 's'] for a in aircrafts}\n",
        "\n",
        "print(\"\\nNet revenue total loss: $\",round(model.objVal/10**6,2),'million')\n",
        "print(\"Optimal number of flights served:\",sum(len(operated_flights[a]) for a in aircrafts))\n",
        "print(\"Optimal number of passengers transported:\",sum(sum(flight_n_pass[f] for f in aircraft_flights[a] if x[a,f].X > .5) for a in aircrafts))\n",
        "print(\"Optimal number of aircrafts utilized:\",sum([1 if len(operated_flights[a]) > 0 else 0 for a in aircrafts]))\n"
      ]
    },
    {
      "cell_type": "markdown",
      "id": "8d70590d",
      "metadata": {
        "id": "8d70590d"
      },
      "source": [
        "## Full model\n",
        "\n",
        "While this notebook walked through how to build an optimization model piece-by-piece, the following code contains the overall optimization model. You can input different parameter values and see how the optimal solution changes. \n",
        "The value of $\\alpha$ (percentage disruption) can be controlled using the slider below the cell.\n"
      ]
    },
    {
      "cell_type": "code",
      "execution_count": null,
      "id": "706f85d8",
      "metadata": {
        "scrolled": false,
        "id": "706f85d8",
        "outputId": "3e889b0f-09c9-4e67-8dbf-721006f896db",
        "colab": {
          "referenced_widgets": [
            "8c81b2ace37e4400b7d5df872eb5850a"
          ]
        }
      },
      "outputs": [
        {
          "name": "stdout",
          "output_type": "stream",
          "text": [
            "Select a value for the level of disruption at the airports:\n",
            "\n",
            "Select 0 for complete shutdown of all airports; select 1 for business-as-usual.\n",
            "\n"
          ]
        },
        {
          "data": {
            "application/vnd.jupyter.widget-view+json": {
              "model_id": "8c81b2ace37e4400b7d5df872eb5850a",
              "version_major": 2,
              "version_minor": 0
            },
            "text/plain": [
              "interactive(children=(FloatSlider(value=0.0, description='x', max=1.0, step=0.05), Output()), _dom_classes=('w…"
            ]
          },
          "metadata": {},
          "output_type": "display_data"
        },
        {
          "data": {
            "text/plain": [
              "<function __main__.solve_flight_planning(x)>"
            ]
          },
          "execution_count": 18,
          "metadata": {},
          "output_type": "execute_result"
        }
      ],
      "source": [
        "import gurobipy as gp\n",
        "from gurobipy import GRB\n",
        "from ipywidgets import interact, interactive, fixed, interact_manual, widgets\n",
        "# import ipywidgets as widgets \n",
        "\n",
        " \n",
        "N = G.nodes() \n",
        " \n",
        "def solve_flight_planning(x):    \n",
        "    alpha = x \n",
        "    \n",
        "    model = gp.Model(\"airline_disruption\")\n",
        "    x, y = {}, {}\n",
        "    for a in aircrafts:\n",
        "        for f in aircraft_flights[a]:\n",
        "            x[a,f] = model.addVar(name=\"x_%s,%s\"%(a,f), vtype=GRB.BINARY)\n",
        "\n",
        "        for (f1,f2) in flight_arcs_for_each_aircraft[a]:\n",
        "            y[a,f1,f2] = model.addVar(name=\"y_%s,%s,%s\"%(a,f1,f2), vtype=GRB.BINARY)\n",
        "\n",
        "    model.update()\n",
        "\n",
        "    objective = gp.quicksum((1-x[a,f])*flight_revenue[f] for a in aircrafts for f in aircraft_flights[a] if f in flight_revenue) # operating cost\n",
        "    model.setObjective(objective, sense=GRB.MINIMIZE)\n",
        "\n",
        "    for a in aircrafts:\n",
        "        model.addConstr(sum(y[a,'source_%s'%a,f2] for f2 in deltaplus_flightarcs[a]['source_%s'%a]) == 1)\n",
        "        model.addConstr(sum(y[a,f1,'sink_%s'%a] for f1 in deltaminus_flightarcs[a]['sink_%s'%a]) == 1)\n",
        "        for f in aircraft_flights[a]: \n",
        "            if str(f)[0] != 's':\n",
        "                model.addConstr(sum(y[a,f,f2] for f2 in deltaplus_flightarcs[a][f]) == sum(y[a,f1,f] for f1 in deltaminus_flightarcs[a][f]))\n",
        "\n",
        "    for a in aircrafts:\n",
        "        for f in aircraft_flights[a]:\n",
        "            model.addConstr(x[a,f] <= sum(y[a,f,f2] for f2 in deltaplus_flightarcs[a][f])) # flight f is chosen only if it is traversed\n",
        "\n",
        "\n",
        "    for i in N:\n",
        "        total_departures = len([f for a in aircrafts for f in aircraft_flights[a] if flight_origin[f] == i])\n",
        "        total_arrivals = len([f for a in aircrafts for f in aircraft_flights[a] if flight_dest[f] == i]) \n",
        "\n",
        "        model.addConstr(sum(x[a,f] for a in aircrafts for f in aircraft_flights[a] if flight_origin[f] == i) <= alpha*total_departures)\n",
        "        model.addConstr(sum(x[a,f] for a in aircrafts for f in aircraft_flights[a] if flight_dest[f] == i) <= alpha*total_arrivals)\n",
        "\n",
        "    model.setParam('OutputFlag', 0)\n",
        "    model.optimize()\n",
        "\n",
        "    operated_flights = {a: [f for f in aircraft_flights[a] if x[a,f].X > .5 if str(f)[0] != 's'] for a in aircrafts}\n",
        "    actual_rev = sum(flight_revenue[f] for f in flight_revenue) # operating cost\n",
        "    print(\"Loss ($): \",round(model.objVal/10**6,2),'million')\n",
        "    print(\"Optimal number of flights served:\",sum(len(operated_flights[a]) for a in aircrafts))\n",
        "    print(\"Optimal number of passengers transported:\",sum(sum(flight_n_pass[f] for f in aircraft_flights[a] if x[a,f].X > .5) for a in aircrafts))\n",
        "    print(\"Optimal number of aircrafts utilized:\",sum([1 if len(operated_flights[a]) > 0 else 0 for a in aircrafts]))\n",
        "    \n",
        "    print(\"Full network of operated flights:\")\n",
        "    G = nx.MultiDiGraph()\n",
        "    arcs=[(flight_origin[f],flight_dest[f]) for a in aircrafts for f in operated_flights[a]] \n",
        "     \n",
        "    aircraft_color = {aircrafts[i]:\"#\"+''.join([random.choice('0123456789ABCDEF') for j in range(6)]) for i in range(len(aircrafts))}\n",
        "    for a in aircrafts:\n",
        "        for f in operated_flights[a]:\n",
        "            G.add_edge(flight_origin[f],flight_dest[f],color=aircraft_color[a])\n",
        "    A_graph = to_agraph(G) \n",
        "    A_graph.layout('dot')  \n",
        "    display(A_graph)\n",
        "\n",
        "print(\"Select a value for the level of disruption at the airports:\\n\")\n",
        "print(\"Select 0 for complete shutdown of all airports; select 1 for business-as-usual.\\n\")\n",
        "interact(solve_flight_planning, x=(0,1,0.05)) \n",
        "      "
      ]
    },
    {
      "cell_type": "markdown",
      "id": "8d132b2c",
      "metadata": {
        "id": "8d132b2c"
      },
      "source": [
        "## Extensions\n",
        "\n",
        "- Besides cancelling flights, there are other ways to alter the schedule after a disruption, such as delaying a flight, rebooking the passengers onto other flights, etc. Can you model these using decision variables? What type of constraints are needed?\n",
        "- We only consider the cost of cancelling a flight. There may be other costs due to maintainance and repair, that we don't consider. How can other costs be incorporated into the model?\n",
        "- There are indirect considerations to crew planning that this model does not include. For example, when reserve crew misses a connection due to a flight cancellation, that crew won't be able to serve a future flight. Can crew planning be captured in the model as well? \n"
      ]
    },
    {
      "cell_type": "markdown",
      "id": "066b5fd3",
      "metadata": {
        "id": "066b5fd3"
      },
      "source": [
        "Copyright © 2023 Gurobi Optimization, LLC"
      ]
    }
  ],
  "metadata": {
    "kernelspec": {
      "display_name": "Python 3 (ipykernel)",
      "language": "python",
      "name": "python3"
    },
    "language_info": {
      "codemirror_mode": {
        "name": "ipython",
        "version": 3
      },
      "file_extension": ".py",
      "mimetype": "text/x-python",
      "name": "python",
      "nbconvert_exporter": "python",
      "pygments_lexer": "ipython3",
      "version": "3.9.13"
    },
    "colab": {
      "provenance": []
    },
    "widgets": {
      "application/vnd.jupyter.widget-state+json": {
        "51599a588d3e49d1b54e9ffef87ffd3e": {
          "model_module": "@jupyter-widgets/controls",
          "model_name": "VBoxModel",
          "model_module_version": "1.5.0",
          "state": {
            "_dom_classes": [
              "widget-interact"
            ],
            "_model_module": "@jupyter-widgets/controls",
            "_model_module_version": "1.5.0",
            "_model_name": "VBoxModel",
            "_view_count": null,
            "_view_module": "@jupyter-widgets/controls",
            "_view_module_version": "1.5.0",
            "_view_name": "VBoxView",
            "box_style": "",
            "children": [
              "IPY_MODEL_edd0121916e444aeb2e9cb38277f3ea6",
              "IPY_MODEL_b846220153064c25ae8a9a6de7a8e383"
            ],
            "layout": "IPY_MODEL_c19803bf9ef0462582b0132d4076e60e"
          }
        },
        "edd0121916e444aeb2e9cb38277f3ea6": {
          "model_module": "@jupyter-widgets/controls",
          "model_name": "DropdownModel",
          "model_module_version": "1.5.0",
          "state": {
            "_dom_classes": [],
            "_model_module": "@jupyter-widgets/controls",
            "_model_module_version": "1.5.0",
            "_model_name": "DropdownModel",
            "_options_labels": [
              "A318#4",
              "A318#5",
              "A318#7",
              "A318#8",
              "A319#11",
              "A319#13",
              "A319#18",
              "A319#5",
              "A319#9",
              "A320#11",
              "A320#14",
              "A320#22",
              "A320#24",
              "A321#2",
              "A321#4",
              "CRJ700#3",
              "ERJ145#5",
              "TranspCom#1",
              "TranspCom#2",
              "TranspCom#3",
              "TranspCom#4"
            ],
            "_view_count": null,
            "_view_module": "@jupyter-widgets/controls",
            "_view_module_version": "1.5.0",
            "_view_name": "DropdownView",
            "description": "x",
            "description_tooltip": null,
            "disabled": false,
            "index": 0,
            "layout": "IPY_MODEL_18e31d98072d499ab8220310ab8b39da",
            "style": "IPY_MODEL_27f92243605b4d3491d6a1b905128da0"
          }
        },
        "b846220153064c25ae8a9a6de7a8e383": {
          "model_module": "@jupyter-widgets/output",
          "model_name": "OutputModel",
          "model_module_version": "1.0.0",
          "state": {
            "_dom_classes": [],
            "_model_module": "@jupyter-widgets/output",
            "_model_module_version": "1.0.0",
            "_model_name": "OutputModel",
            "_view_count": null,
            "_view_module": "@jupyter-widgets/output",
            "_view_module_version": "1.0.0",
            "_view_name": "OutputView",
            "layout": "IPY_MODEL_4fbdb638e62544c49aab67b1f0e369a1",
            "msg_id": "",
            "outputs": [
              {
                "output_type": "display_data",
                "data": {
                  "image/svg+xml": "<?xml version=\"1.0\" encoding=\"UTF-8\" standalone=\"no\"?>\n<!DOCTYPE svg PUBLIC \"-//W3C//DTD SVG 1.1//EN\"\n \"http://www.w3.org/Graphics/SVG/1.1/DTD/svg11.dtd\">\n<!-- Generated by graphviz version 2.43.0 (0)\n -->\n<!-- Pages: 1 -->\n<svg width=\"426pt\" height=\"692pt\"\n viewBox=\"0.00 0.00 426.00 692.00\" xmlns=\"http://www.w3.org/2000/svg\" xmlns:xlink=\"http://www.w3.org/1999/xlink\">\n<g id=\"graph0\" class=\"graph\" transform=\"scale(1 1) rotate(0) translate(4 688)\">\n<polygon fill=\"white\" stroke=\"transparent\" points=\"-4,4 -4,-688 422,-688 422,4 -4,4\"/>\n<!-- 3064 -->\n<g id=\"node1\" class=\"node\">\n<title>3064</title>\n<ellipse fill=\"none\" stroke=\"black\" cx=\"176\" cy=\"-594\" rx=\"28.7\" ry=\"18\"/>\n<text text-anchor=\"middle\" x=\"176\" y=\"-590.3\" font-family=\"Times,serif\" font-size=\"14.00\">3064</text>\n</g>\n<!-- 3069 -->\n<g id=\"node2\" class=\"node\">\n<title>3069</title>\n<ellipse fill=\"none\" stroke=\"black\" cx=\"176\" cy=\"-522\" rx=\"28.7\" ry=\"18\"/>\n<text text-anchor=\"middle\" x=\"176\" y=\"-518.3\" font-family=\"Times,serif\" font-size=\"14.00\">3069</text>\n</g>\n<!-- 3064&#45;&gt;3069 -->\n<g id=\"edge1\" class=\"edge\">\n<title>3064&#45;&gt;3069</title>\n<path fill=\"none\" stroke=\"black\" d=\"M176,-575.7C176,-567.98 176,-558.71 176,-550.11\"/>\n<polygon fill=\"black\" stroke=\"black\" points=\"179.5,-550.1 176,-540.1 172.5,-550.1 179.5,-550.1\"/>\n</g>\n<!-- 3077 -->\n<g id=\"node3\" class=\"node\">\n<title>3077</title>\n<ellipse fill=\"none\" stroke=\"black\" cx=\"171\" cy=\"-378\" rx=\"28.7\" ry=\"18\"/>\n<text text-anchor=\"middle\" x=\"171\" y=\"-374.3\" font-family=\"Times,serif\" font-size=\"14.00\">3077</text>\n</g>\n<!-- 3064&#45;&gt;3077 -->\n<g id=\"edge2\" class=\"edge\">\n<title>3064&#45;&gt;3077</title>\n<path fill=\"none\" stroke=\"black\" d=\"M161.5,-578.2C152.84,-568.29 142.64,-554.44 138,-540 122.97,-493.23 143.08,-436.54 157.87,-404.43\"/>\n<polygon fill=\"black\" stroke=\"black\" points=\"161.08,-405.82 162.24,-395.29 154.77,-402.8 161.08,-405.82\"/>\n</g>\n<!-- 3085 -->\n<g id=\"node4\" class=\"node\">\n<title>3085</title>\n<ellipse fill=\"none\" stroke=\"black\" cx=\"304\" cy=\"-234\" rx=\"28.7\" ry=\"18\"/>\n<text text-anchor=\"middle\" x=\"304\" y=\"-230.3\" font-family=\"Times,serif\" font-size=\"14.00\">3085</text>\n</g>\n<!-- 3064&#45;&gt;3085 -->\n<g id=\"edge3\" class=\"edge\">\n<title>3064&#45;&gt;3085</title>\n<path fill=\"none\" stroke=\"black\" d=\"M200.99,-584.85C243.07,-569.6 326.81,-532.36 361,-468 398.21,-397.96 348.51,-303.17 320.61,-259.23\"/>\n<polygon fill=\"black\" stroke=\"black\" points=\"323.42,-257.12 315.03,-250.65 317.55,-260.94 323.42,-257.12\"/>\n</g>\n<!-- 3095 -->\n<g id=\"node5\" class=\"node\">\n<title>3095</title>\n<ellipse fill=\"none\" stroke=\"black\" cx=\"218\" cy=\"-90\" rx=\"28.7\" ry=\"18\"/>\n<text text-anchor=\"middle\" x=\"218\" y=\"-86.3\" font-family=\"Times,serif\" font-size=\"14.00\">3095</text>\n</g>\n<!-- 3064&#45;&gt;3095 -->\n<g id=\"edge4\" class=\"edge\">\n<title>3064&#45;&gt;3095</title>\n<path fill=\"none\" stroke=\"black\" d=\"M150.41,-585.57C101.59,-569.66 0,-527.36 0,-451 0,-451 0,-451 0,-233 0,-147.86 118.2,-111.11 180.53,-97.65\"/>\n<polygon fill=\"black\" stroke=\"black\" points=\"181.3,-101.07 190.39,-95.62 179.89,-94.21 181.3,-101.07\"/>\n</g>\n<!-- 3074 -->\n<g id=\"node6\" class=\"node\">\n<title>3074</title>\n<ellipse fill=\"none\" stroke=\"black\" cx=\"323\" cy=\"-450\" rx=\"28.7\" ry=\"18\"/>\n<text text-anchor=\"middle\" x=\"323\" y=\"-446.3\" font-family=\"Times,serif\" font-size=\"14.00\">3074</text>\n</g>\n<!-- 3069&#45;&gt;3074 -->\n<g id=\"edge5\" class=\"edge\">\n<title>3069&#45;&gt;3074</title>\n<path fill=\"none\" stroke=\"black\" d=\"M198.33,-510.37C223.19,-498.53 263.55,-479.31 291.59,-465.96\"/>\n<polygon fill=\"black\" stroke=\"black\" points=\"293.43,-468.96 300.95,-461.5 290.42,-462.64 293.43,-468.96\"/>\n</g>\n<!-- 3082 -->\n<g id=\"node7\" class=\"node\">\n<title>3082</title>\n<ellipse fill=\"none\" stroke=\"black\" cx=\"247\" cy=\"-306\" rx=\"28.7\" ry=\"18\"/>\n<text text-anchor=\"middle\" x=\"247\" y=\"-302.3\" font-family=\"Times,serif\" font-size=\"14.00\">3082</text>\n</g>\n<!-- 3069&#45;&gt;3082 -->\n<g id=\"edge6\" class=\"edge\">\n<title>3069&#45;&gt;3082</title>\n<path fill=\"none\" stroke=\"black\" d=\"M181.57,-504.21C193.88,-467.09 223.49,-377.86 238.28,-333.27\"/>\n<polygon fill=\"black\" stroke=\"black\" points=\"241.62,-334.3 241.45,-323.71 234.98,-332.1 241.62,-334.3\"/>\n</g>\n<!-- 3092 -->\n<g id=\"node8\" class=\"node\">\n<title>3092</title>\n<ellipse fill=\"none\" stroke=\"black\" cx=\"190\" cy=\"-162\" rx=\"28.7\" ry=\"18\"/>\n<text text-anchor=\"middle\" x=\"190\" y=\"-158.3\" font-family=\"Times,serif\" font-size=\"14.00\">3092</text>\n</g>\n<!-- 3069&#45;&gt;3092 -->\n<g id=\"edge7\" class=\"edge\">\n<title>3069&#45;&gt;3092</title>\n<path fill=\"none\" stroke=\"black\" d=\"M172.58,-503.91C168.66,-485.72 161.54,-456.28 152,-432 145.38,-415.16 137.35,-413.56 133,-396 114.24,-320.28 153.46,-230.61 175.85,-187.95\"/>\n<polygon fill=\"black\" stroke=\"black\" points=\"178.95,-189.57 180.61,-179.11 172.79,-186.26 178.95,-189.57\"/>\n</g>\n<!-- sink_A318#4 -->\n<g id=\"node9\" class=\"node\">\n<title>sink_A318#4</title>\n<ellipse fill=\"none\" stroke=\"black\" cx=\"218\" cy=\"-18\" rx=\"58\" ry=\"18\"/>\n<text text-anchor=\"middle\" x=\"218\" y=\"-14.3\" font-family=\"Times,serif\" font-size=\"14.00\">sink_A318#4</text>\n</g>\n<!-- 3069&#45;&gt;sink_A318#4 -->\n<g id=\"edge8\" class=\"edge\">\n<title>3069&#45;&gt;sink_A318#4</title>\n<path fill=\"none\" stroke=\"black\" d=\"M159.08,-507.45C122.23,-476.3 38,-395.42 38,-307 38,-307 38,-307 38,-161 38,-94.49 114.69,-54.3 167.96,-34.42\"/>\n<polygon fill=\"black\" stroke=\"black\" points=\"169.38,-37.62 177.6,-30.94 167.01,-31.04 169.38,-37.62\"/>\n</g>\n<!-- 3077&#45;&gt;3082 -->\n<g id=\"edge9\" class=\"edge\">\n<title>3077&#45;&gt;3082</title>\n<path fill=\"none\" stroke=\"black\" d=\"M186.75,-362.5C197.52,-352.58 211.97,-339.26 224.02,-328.16\"/>\n<polygon fill=\"black\" stroke=\"black\" points=\"226.54,-330.6 231.53,-321.25 221.8,-325.45 226.54,-330.6\"/>\n</g>\n<!-- 3077&#45;&gt;3092 -->\n<g id=\"edge10\" class=\"edge\">\n<title>3077&#45;&gt;3092</title>\n<path fill=\"none\" stroke=\"black\" d=\"M172.52,-359.85C175.81,-322.83 183.59,-235.18 187.57,-190.39\"/>\n<polygon fill=\"black\" stroke=\"black\" points=\"191.07,-190.5 188.47,-180.23 184.1,-189.88 191.07,-190.5\"/>\n</g>\n<!-- 3077&#45;&gt;sink_A318#4 -->\n<g id=\"edge11\" class=\"edge\">\n<title>3077&#45;&gt;sink_A318#4</title>\n<path fill=\"none\" stroke=\"black\" d=\"M166.59,-360.17C157.15,-321.6 137,-223.98 152,-144 158.33,-110.25 163.65,-102.19 180,-72 185.18,-62.44 191.82,-52.6 198.09,-44.03\"/>\n<polygon fill=\"black\" stroke=\"black\" points=\"200.96,-46.04 204.18,-35.94 195.37,-41.83 200.96,-46.04\"/>\n</g>\n<!-- 3085&#45;&gt;3092 -->\n<g id=\"edge12\" class=\"edge\">\n<title>3085&#45;&gt;3092</title>\n<path fill=\"none\" stroke=\"black\" d=\"M284.14,-220.81C266.03,-209.68 239.05,-193.12 218.61,-180.57\"/>\n<polygon fill=\"black\" stroke=\"black\" points=\"220.36,-177.54 210.01,-175.29 216.7,-183.5 220.36,-177.54\"/>\n</g>\n<!-- 3085&#45;&gt;sink_A318#4 -->\n<g id=\"edge13\" class=\"edge\">\n<title>3085&#45;&gt;sink_A318#4</title>\n<path fill=\"none\" stroke=\"black\" d=\"M300.84,-215.86C294.87,-185.66 280.27,-121.5 256,-72 251.21,-62.24 244.67,-52.35 238.37,-43.79\"/>\n<polygon fill=\"black\" stroke=\"black\" points=\"241.07,-41.56 232.21,-35.74 235.51,-45.81 241.07,-41.56\"/>\n</g>\n<!-- 3095&#45;&gt;sink_A318#4 -->\n<g id=\"edge14\" class=\"edge\">\n<title>3095&#45;&gt;sink_A318#4</title>\n<path fill=\"none\" stroke=\"black\" d=\"M218,-71.7C218,-63.98 218,-54.71 218,-46.11\"/>\n<polygon fill=\"black\" stroke=\"black\" points=\"221.5,-46.1 218,-36.1 214.5,-46.1 221.5,-46.1\"/>\n</g>\n<!-- 3074&#45;&gt;3077 -->\n<g id=\"edge15\" class=\"edge\">\n<title>3074&#45;&gt;3077</title>\n<path fill=\"none\" stroke=\"black\" d=\"M300.57,-438.67C274.75,-426.78 232.15,-407.16 202.89,-393.69\"/>\n<polygon fill=\"black\" stroke=\"black\" points=\"204.07,-390.38 193.52,-389.37 201.14,-396.74 204.07,-390.38\"/>\n</g>\n<!-- 3074&#45;&gt;3085 -->\n<g id=\"edge16\" class=\"edge\">\n<title>3074&#45;&gt;3085</title>\n<path fill=\"none\" stroke=\"black\" d=\"M321.48,-431.85C318.19,-394.83 310.41,-307.18 306.43,-262.39\"/>\n<polygon fill=\"black\" stroke=\"black\" points=\"309.9,-261.88 305.53,-252.23 302.93,-262.5 309.9,-261.88\"/>\n</g>\n<!-- 3074&#45;&gt;3095 -->\n<g id=\"edge17\" class=\"edge\">\n<title>3074&#45;&gt;3095</title>\n<path fill=\"none\" stroke=\"black\" d=\"M329.35,-432.39C343.34,-393.05 373.22,-291.81 342,-216 322.72,-169.18 276.47,-130.61 246.23,-109.22\"/>\n<polygon fill=\"black\" stroke=\"black\" points=\"248,-106.19 237.78,-103.4 244.03,-111.95 248,-106.19\"/>\n</g>\n<!-- 3082&#45;&gt;3085 -->\n<g id=\"edge18\" class=\"edge\">\n<title>3082&#45;&gt;3085</title>\n<path fill=\"none\" stroke=\"black\" d=\"M259.65,-289.46C267.1,-280.31 276.68,-268.55 285.02,-258.31\"/>\n<polygon fill=\"black\" stroke=\"black\" points=\"287.79,-260.45 291.39,-250.49 282.36,-256.03 287.79,-260.45\"/>\n</g>\n<!-- 3082&#45;&gt;3095 -->\n<g id=\"edge19\" class=\"edge\">\n<title>3082&#45;&gt;3095</title>\n<path fill=\"none\" stroke=\"black\" d=\"M245.39,-288.03C242.5,-258.61 236.01,-196.3 228,-144 226.7,-135.54 225.06,-126.36 223.48,-118.06\"/>\n<polygon fill=\"black\" stroke=\"black\" points=\"226.89,-117.27 221.54,-108.13 220.02,-118.62 226.89,-117.27\"/>\n</g>\n<!-- 3092&#45;&gt;3095 -->\n<g id=\"edge20\" class=\"edge\">\n<title>3092&#45;&gt;3095</title>\n<path fill=\"none\" stroke=\"black\" d=\"M196.64,-144.41C199.87,-136.34 203.83,-126.43 207.46,-117.35\"/>\n<polygon fill=\"black\" stroke=\"black\" points=\"210.75,-118.54 211.22,-107.96 204.25,-115.94 210.75,-118.54\"/>\n</g>\n<!-- source_A318#4 -->\n<g id=\"node10\" class=\"node\">\n<title>source_A318#4</title>\n<ellipse fill=\"none\" stroke=\"black\" cx=\"271\" cy=\"-666\" rx=\"66.5\" ry=\"18\"/>\n<text text-anchor=\"middle\" x=\"271\" y=\"-662.3\" font-family=\"Times,serif\" font-size=\"14.00\">source_A318#4</text>\n</g>\n<!-- source_A318#4&#45;&gt;3064 -->\n<g id=\"edge21\" class=\"edge\">\n<title>source_A318#4&#45;&gt;3064</title>\n<path fill=\"none\" stroke=\"black\" d=\"M248.97,-648.76C234.95,-638.43 216.72,-625.01 201.99,-614.15\"/>\n<polygon fill=\"black\" stroke=\"black\" points=\"203.91,-611.22 193.79,-608.1 199.76,-616.85 203.91,-611.22\"/>\n</g>\n<!-- source_A318#4&#45;&gt;3074 -->\n<g id=\"edge22\" class=\"edge\">\n<title>source_A318#4&#45;&gt;3074</title>\n<path fill=\"none\" stroke=\"black\" d=\"M275.65,-647.84C278.44,-637.48 282,-624 285,-612 296.77,-564.94 309.55,-509.89 316.88,-477.88\"/>\n<polygon fill=\"black\" stroke=\"black\" points=\"320.33,-478.49 319.15,-467.96 313.51,-476.93 320.33,-478.49\"/>\n</g>\n<!-- source_A318#4&#45;&gt;3082 -->\n<g id=\"edge23\" class=\"edge\">\n<title>source_A318#4&#45;&gt;3082</title>\n<path fill=\"none\" stroke=\"black\" d=\"M269.84,-647.73C265.99,-590.19 253.55,-404.66 248.83,-334.35\"/>\n<polygon fill=\"black\" stroke=\"black\" points=\"252.3,-333.84 248.15,-324.09 245.32,-334.3 252.3,-333.84\"/>\n</g>\n<!-- source_A318#4&#45;&gt;3092 -->\n<g id=\"edge24\" class=\"edge\">\n<title>source_A318#4&#45;&gt;3092</title>\n<path fill=\"none\" stroke=\"black\" d=\"M215.2,-656.26C187.79,-649.02 156.71,-635.87 138,-612 49.11,-498.59 106.41,-430.76 126,-288 130.48,-255.32 128.77,-245.26 144,-216 149.92,-204.63 158.74,-193.66 167.08,-184.67\"/>\n<polygon fill=\"black\" stroke=\"black\" points=\"169.75,-186.94 174.2,-177.33 164.73,-182.07 169.75,-186.94\"/>\n</g>\n<!-- source_A318#4&#45;&gt;sink_A318#4 -->\n<g id=\"edge25\" class=\"edge\">\n<title>source_A318#4&#45;&gt;sink_A318#4</title>\n<path fill=\"none\" stroke=\"black\" d=\"M305.09,-650.36C348.52,-629.15 418,-585.45 418,-523 418,-523 418,-523 418,-161 418,-89.4 331.72,-50.6 272.5,-32.4\"/>\n<polygon fill=\"black\" stroke=\"black\" points=\"273.46,-29.03 262.88,-29.55 271.47,-35.74 273.46,-29.03\"/>\n</g>\n</g>\n</svg>\n",
                  "text/plain": "<AGraph <Swig Object of type 'Agraph_t *' at 0x7fd8cc5a4f00>>"
                },
                "metadata": {}
              },
              {
                "output_type": "display_data",
                "data": {
                  "text/plain": "<Figure size 1440x1008 with 0 Axes>"
                },
                "metadata": {}
              }
            ]
          }
        },
        "c19803bf9ef0462582b0132d4076e60e": {
          "model_module": "@jupyter-widgets/base",
          "model_name": "LayoutModel",
          "model_module_version": "1.2.0",
          "state": {
            "_model_module": "@jupyter-widgets/base",
            "_model_module_version": "1.2.0",
            "_model_name": "LayoutModel",
            "_view_count": null,
            "_view_module": "@jupyter-widgets/base",
            "_view_module_version": "1.2.0",
            "_view_name": "LayoutView",
            "align_content": null,
            "align_items": null,
            "align_self": null,
            "border": null,
            "bottom": null,
            "display": null,
            "flex": null,
            "flex_flow": null,
            "grid_area": null,
            "grid_auto_columns": null,
            "grid_auto_flow": null,
            "grid_auto_rows": null,
            "grid_column": null,
            "grid_gap": null,
            "grid_row": null,
            "grid_template_areas": null,
            "grid_template_columns": null,
            "grid_template_rows": null,
            "height": null,
            "justify_content": null,
            "justify_items": null,
            "left": null,
            "margin": null,
            "max_height": null,
            "max_width": null,
            "min_height": null,
            "min_width": null,
            "object_fit": null,
            "object_position": null,
            "order": null,
            "overflow": null,
            "overflow_x": null,
            "overflow_y": null,
            "padding": null,
            "right": null,
            "top": null,
            "visibility": null,
            "width": null
          }
        },
        "18e31d98072d499ab8220310ab8b39da": {
          "model_module": "@jupyter-widgets/base",
          "model_name": "LayoutModel",
          "model_module_version": "1.2.0",
          "state": {
            "_model_module": "@jupyter-widgets/base",
            "_model_module_version": "1.2.0",
            "_model_name": "LayoutModel",
            "_view_count": null,
            "_view_module": "@jupyter-widgets/base",
            "_view_module_version": "1.2.0",
            "_view_name": "LayoutView",
            "align_content": null,
            "align_items": null,
            "align_self": null,
            "border": null,
            "bottom": null,
            "display": null,
            "flex": null,
            "flex_flow": null,
            "grid_area": null,
            "grid_auto_columns": null,
            "grid_auto_flow": null,
            "grid_auto_rows": null,
            "grid_column": null,
            "grid_gap": null,
            "grid_row": null,
            "grid_template_areas": null,
            "grid_template_columns": null,
            "grid_template_rows": null,
            "height": null,
            "justify_content": null,
            "justify_items": null,
            "left": null,
            "margin": null,
            "max_height": null,
            "max_width": null,
            "min_height": null,
            "min_width": null,
            "object_fit": null,
            "object_position": null,
            "order": null,
            "overflow": null,
            "overflow_x": null,
            "overflow_y": null,
            "padding": null,
            "right": null,
            "top": null,
            "visibility": null,
            "width": null
          }
        },
        "27f92243605b4d3491d6a1b905128da0": {
          "model_module": "@jupyter-widgets/controls",
          "model_name": "DescriptionStyleModel",
          "model_module_version": "1.5.0",
          "state": {
            "_model_module": "@jupyter-widgets/controls",
            "_model_module_version": "1.5.0",
            "_model_name": "DescriptionStyleModel",
            "_view_count": null,
            "_view_module": "@jupyter-widgets/base",
            "_view_module_version": "1.2.0",
            "_view_name": "StyleView",
            "description_width": ""
          }
        },
        "4fbdb638e62544c49aab67b1f0e369a1": {
          "model_module": "@jupyter-widgets/base",
          "model_name": "LayoutModel",
          "model_module_version": "1.2.0",
          "state": {
            "_model_module": "@jupyter-widgets/base",
            "_model_module_version": "1.2.0",
            "_model_name": "LayoutModel",
            "_view_count": null,
            "_view_module": "@jupyter-widgets/base",
            "_view_module_version": "1.2.0",
            "_view_name": "LayoutView",
            "align_content": null,
            "align_items": null,
            "align_self": null,
            "border": null,
            "bottom": null,
            "display": null,
            "flex": null,
            "flex_flow": null,
            "grid_area": null,
            "grid_auto_columns": null,
            "grid_auto_flow": null,
            "grid_auto_rows": null,
            "grid_column": null,
            "grid_gap": null,
            "grid_row": null,
            "grid_template_areas": null,
            "grid_template_columns": null,
            "grid_template_rows": null,
            "height": null,
            "justify_content": null,
            "justify_items": null,
            "left": null,
            "margin": null,
            "max_height": null,
            "max_width": null,
            "min_height": null,
            "min_width": null,
            "object_fit": null,
            "object_position": null,
            "order": null,
            "overflow": null,
            "overflow_x": null,
            "overflow_y": null,
            "padding": null,
            "right": null,
            "top": null,
            "visibility": null,
            "width": null
          }
        }
      }
    }
  },
  "nbformat": 4,
  "nbformat_minor": 5
}